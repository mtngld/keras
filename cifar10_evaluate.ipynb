{
 "cells": [
  {
   "cell_type": "code",
   "execution_count": 1,
   "metadata": {
    "collapsed": false
   },
   "outputs": [
    {
     "name": "stderr",
     "output_type": "stream",
     "text": [
      "Using TensorFlow backend.\n"
     ]
    }
   ],
   "source": [
    "'''Train a simple deep CNN on the CIFAR10 small images dataset.\n",
    "\n",
    "GPU run command with Theano backend (with TensorFlow, the GPU is automatically used):\n",
    "    THEANO_FLAGS=mode=FAST_RUN,device=gpu,floatX=float32 python cifar10_cnn.py\n",
    "\n",
    "It gets down to 0.65 test logloss in 25 epochs, and down to 0.55 after 50 epochs.\n",
    "(it's still underfitting at that point, though).\n",
    "'''\n",
    "\n",
    "from __future__ import print_function\n",
    "import matplotlib\n",
    "import matplotlib.pyplot as plt\n",
    "import numpy as np\n",
    "from sklearn.neighbors import KNeighborsClassifier\n",
    "from sklearn.model_selection import cross_val_score\n",
    "from datetime import datetime\n",
    "from scipy.spatial.distance import pdist\n",
    "\n",
    "from keras.datasets import cifar10\n",
    "from keras.preprocessing.image import ImageDataGenerator\n",
    "from keras.models import Sequential, load_model, Model\n",
    "from keras.layers import Dense, Dropout, Activation, Flatten\n",
    "from keras.layers import Convolution2D, MaxPooling2D\n",
    "from keras.utils import np_utils\n",
    "from keras import backend as K\n",
    "\n",
    "%matplotlib inline"
   ]
  },
  {
   "cell_type": "code",
   "execution_count": 2,
   "metadata": {
    "collapsed": false
   },
   "outputs": [
    {
     "name": "stdout",
     "output_type": "stream",
     "text": [
      "X_train shape: (50000, 32, 32, 3)\n",
      "50000 train samples\n",
      "10000 test samples\n"
     ]
    }
   ],
   "source": [
    "nb_classes = 10\n",
    "\n",
    "# input image dimensions\n",
    "img_rows, img_cols = 32, 32\n",
    "# The CIFAR10 images are RGB.\n",
    "img_channels = 3\n",
    "\n",
    "# The data, shuffled and split between train and test sets:\n",
    "(X_train, y_train), (X_test, y_test) = cifar10.load_data()\n",
    "print('X_train shape:', X_train.shape)\n",
    "print(X_train.shape[0], 'train samples')\n",
    "print(X_test.shape[0], 'test samples')\n",
    "\n",
    "# Convert class vectors to binary class matrices.\n",
    "Y_train = np_utils.to_categorical(y_train, nb_classes)\n",
    "Y_test = np_utils.to_categorical(y_test, nb_classes)\n",
    "\n",
    "\n",
    "X_train = X_train.astype('float32')\n",
    "X_test = X_test.astype('float32')\n",
    "X_train /= 255\n",
    "X_test /= 255\n"
   ]
  },
  {
   "cell_type": "code",
   "execution_count": 5,
   "metadata": {
    "collapsed": true
   },
   "outputs": [],
   "source": [
    "model=load_model('cifar10.h5')\n",
    "get_13rd_layer_output = K.function([model.layers[0].input, K.learning_phase()],\n",
    "                                   [model.layers[13].output])\n",
    "get_16rd_layer_output = K.function([model.layers[0].input, K.learning_phase()],\n",
    "                                   [model.layers[16].output])"
   ]
  },
  {
   "cell_type": "code",
   "execution_count": 7,
   "metadata": {
    "collapsed": false
   },
   "outputs": [
    {
     "name": "stderr",
     "output_type": "stream",
     "text": [
      "100%|██████████| 20/20 [09:51<00:00, 27.73s/it]\n"
     ]
    }
   ],
   "source": [
    "from collections import defaultdict\n",
    "from functools import partial\n",
    "from tqdm import tqdm\n",
    "\n",
    "batch_size = 10\n",
    "\n",
    "dist_funcs = ['euclidean', 'cosine', 'correlation']\n",
    "\n",
    "# http://stackoverflow.com/questions/25014298/creating-a-defaultdict-with-empty-numpy-array/25014320#25014320\n",
    "i_dist = defaultdict(list)\n",
    "f_dist = defaultdict(list)\n",
    "f16_dist = defaultdict(list)\n",
    "evaluate = []\n",
    "\n",
    "    \n",
    "for (zoom, width, height, rotation) in tqdm(zip(np.linspace(0.0,0.4,20),\n",
    "                                                      np.linspace(0.0,0.4,20),\n",
    "                                                      np.linspace(0.0,0.4,20),\n",
    "                                                      np.linspace(0,45,20))):\n",
    "    batch_idx = 0\n",
    "    datagen = ImageDataGenerator(zoom_range=zoom,\n",
    "                                 width_shift_range=width,\n",
    "                                 height_shift_range=height,\n",
    "                                 rotation_range=rotation,\n",
    "                                 horizontal_flip=True)\n",
    "    \n",
    "    temp_i_dist = defaultdict(list)\n",
    "    temp_f_dist = defaultdict(list)\n",
    "    temp_f16_dist = defaultdict(list)\n",
    "    temp_evaluate = []\n",
    "\n",
    "    for X_batch, Y_batch in datagen.flow(np.repeat(X_test, batch_size, axis=0),\n",
    "                                         np.repeat(Y_test, batch_size, axis=0),\n",
    "                                         batch_size=batch_size,\n",
    "                                         shuffle=False):\n",
    "        for dist_func in dist_funcs:\n",
    "            X_batch_reshaped = X_batch.reshape(batch_size, -1)\n",
    "            temp_i_dist[dist_func].append(pdist(X_batch_reshaped, dist_func).tolist())\n",
    "        \n",
    "            features = get_13rd_layer_output([X_batch, 0])[0]\n",
    "            temp_f_dist[dist_func].append(pdist(features, dist_func).tolist())\n",
    "            \n",
    "            features = get_16rd_layer_output([X_batch, 0])[0]\n",
    "            temp_f16_dist[dist_func].append(pdist(features, dist_func).tolist())\n",
    "        \n",
    "        temp_evaluate.append(model.evaluate(X_batch, Y_batch, verbose=0)[1])\n",
    "        \n",
    "        batch_idx += 1\n",
    "        if batch_idx >= len(X_test) / batch_size:\n",
    "            break\n",
    "\n",
    "    \n",
    "    \n",
    "    for dist_func in dist_funcs:\n",
    "        i_dist[dist_func].append(np.mean(temp_i_dist[dist_func]))\n",
    "        f_dist[dist_func].append(np.mean(temp_f_dist[dist_func]))\n",
    "        f16_dist[dist_func].append(np.mean(temp_f16_dist[dist_func]))\n",
    "    evaluate.append(np.mean(temp_evaluate))"
   ]
  },
  {
   "cell_type": "code",
   "execution_count": null,
   "metadata": {
    "collapsed": false
   },
   "outputs": [],
   "source": [
    "# fix = []\n",
    "# for i in range(len(evaluate)):\n",
    "#     if i % 3 == 0:\n",
    "#         fix.append(evaluate[i])\n",
    "# print(len(fix))"
   ]
  },
  {
   "cell_type": "code",
   "execution_count": null,
   "metadata": {
    "collapsed": false
   },
   "outputs": [],
   "source": [
    "for dist_func in dist_funcs:\n",
    "    fig = plt.figure(figsize=(6,6))\n",
    "    ax = fig.add_subplot(111)\n",
    "    fig.subplots_adjust(hspace=0.2)\n",
    "    ax.set_title(dist_func)\n",
    "    ax.set_ylabel('mean feature distance')\n",
    "    ax.set_xlabel('mean image distance')\n",
    "\n",
    "    ax.plot(i_dist[dist_func], f_dist[dist_func], 'ro',label='before last layer (512 features)')\n",
    "    fit = np.polyfit(i_dist[dist_func],f_dist[dist_func],1)\n",
    "    fit_fn = np.poly1d(fit) \n",
    "    ax.plot(i_dist[dist_func], fit_fn(i_dist[dist_func]), '--r')\n",
    "    \n",
    "\n",
    "    \n",
    "    ax.plot(i_dist[dist_func], f16_dist[dist_func], 'bo', label='last layer (10 features)')\n",
    "    fit = np.polyfit(i_dist[dist_func],f16_dist[dist_func],1)\n",
    "    fit_fn = np.poly1d(fit) \n",
    "    ax.plot(i_dist[dist_func], fit_fn(i_dist[dist_func]), '--b')\n",
    "    \n",
    "    ax2 = ax.twinx()\n",
    "    ax2.plot(i_dist[dist_func], evaluate, 'go', label='accuracy')\n",
    "    ax2.set_ylabel('accuracy')\n",
    "    ax.legend(loc=0)\n",
    "    ax2.legend(loc=0)\n",
    "    ax2.set_ylim([0.0,1.0])\n",
    "    plt.savefig('{}.png'.format(dist_func))\n",
    "\n",
    "    "
   ]
  },
  {
   "cell_type": "code",
   "execution_count": null,
   "metadata": {
    "collapsed": true
   },
   "outputs": [],
   "source": []
  },
  {
   "cell_type": "code",
   "execution_count": null,
   "metadata": {
    "collapsed": true
   },
   "outputs": [],
   "source": []
  }
 ],
 "metadata": {
  "kernelspec": {
   "display_name": "Python 2",
   "language": "python",
   "name": "python2"
  },
  "language_info": {
   "codemirror_mode": {
    "name": "ipython",
    "version": 2
   },
   "file_extension": ".py",
   "mimetype": "text/x-python",
   "name": "python",
   "nbconvert_exporter": "python",
   "pygments_lexer": "ipython2",
   "version": "2.7.6"
  }
 },
 "nbformat": 4,
 "nbformat_minor": 2
}
